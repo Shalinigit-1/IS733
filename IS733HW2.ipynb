{
 "cells": [
  {
   "cell_type": "code",
   "execution_count": 6,
   "id": "1b1a4642",
   "metadata": {},
   "outputs": [
    {
     "data": {
      "text/plain": [
       "(571, 4)"
      ]
     },
     "execution_count": 6,
     "metadata": {},
     "output_type": "execute_result"
    }
   ],
   "source": [
    "import pandas as pd\n",
    "from ydata_profiling import ProfileReport\n",
    "\n",
    "df = pd.read_csv(r'C:\\Users\\Preetham Madhamsetty\\Desktop\\Shalini\\IS733\\HW2\\red_wine.csv')\n",
    "\n",
    "df.shape"
   ]
  },
  {
   "cell_type": "code",
   "execution_count": 5,
   "id": "9e2bc540",
   "metadata": {},
   "outputs": [
    {
     "data": {
      "text/html": [
       "<div>\n",
       "<style scoped>\n",
       "    .dataframe tbody tr th:only-of-type {\n",
       "        vertical-align: middle;\n",
       "    }\n",
       "\n",
       "    .dataframe tbody tr th {\n",
       "        vertical-align: top;\n",
       "    }\n",
       "\n",
       "    .dataframe thead th {\n",
       "        text-align: right;\n",
       "    }\n",
       "</style>\n",
       "<table border=\"1\" class=\"dataframe\">\n",
       "  <thead>\n",
       "    <tr style=\"text-align: right;\">\n",
       "      <th></th>\n",
       "      <th>citric acid</th>\n",
       "      <th>sulphates</th>\n",
       "      <th>alcohol</th>\n",
       "      <th>type</th>\n",
       "    </tr>\n",
       "  </thead>\n",
       "  <tbody>\n",
       "    <tr>\n",
       "      <th>0</th>\n",
       "      <td>0.49</td>\n",
       "      <td>0.63</td>\n",
       "      <td>8.0</td>\n",
       "      <td>low</td>\n",
       "    </tr>\n",
       "    <tr>\n",
       "      <th>1</th>\n",
       "      <td>0.66</td>\n",
       "      <td>0.57</td>\n",
       "      <td>8.3</td>\n",
       "      <td>low</td>\n",
       "    </tr>\n",
       "    <tr>\n",
       "      <th>2</th>\n",
       "      <td>0.23</td>\n",
       "      <td>0.44</td>\n",
       "      <td>8.5</td>\n",
       "      <td>high</td>\n",
       "    </tr>\n",
       "    <tr>\n",
       "      <th>3</th>\n",
       "      <td>0.44</td>\n",
       "      <td>0.84</td>\n",
       "      <td>8.6</td>\n",
       "      <td>low</td>\n",
       "    </tr>\n",
       "    <tr>\n",
       "      <th>4</th>\n",
       "      <td>0.08</td>\n",
       "      <td>0.50</td>\n",
       "      <td>8.7</td>\n",
       "      <td>low</td>\n",
       "    </tr>\n",
       "  </tbody>\n",
       "</table>\n",
       "</div>"
      ],
      "text/plain": [
       "   citric acid  sulphates  alcohol  type\n",
       "0         0.49       0.63      8.0   low\n",
       "1         0.66       0.57      8.3   low\n",
       "2         0.23       0.44      8.5  high\n",
       "3         0.44       0.84      8.6   low\n",
       "4         0.08       0.50      8.7   low"
      ]
     },
     "execution_count": 5,
     "metadata": {},
     "output_type": "execute_result"
    }
   ],
   "source": [
    "df.head()"
   ]
  },
  {
   "cell_type": "code",
   "execution_count": 8,
   "id": "a3f8c6c8",
   "metadata": {},
   "outputs": [
    {
     "name": "stderr",
     "output_type": "stream",
     "text": [
      "C:\\Users\\Preetham Madhamsetty\\AppData\\Roaming\\Python\\Python311\\site-packages\\ydata_profiling\\profile_report.py:363: UserWarning: Try running command: 'pip install --upgrade Pillow' to avoid ValueError\n",
      "  warnings.warn(\n"
     ]
    },
    {
     "data": {
      "application/vnd.jupyter.widget-view+json": {
       "model_id": "dd28bb61edf4421eb01521f8158bb1c2",
       "version_major": 2,
       "version_minor": 0
      },
      "text/plain": [
       "Summarize dataset:   0%|          | 0/5 [00:00<?, ?it/s]"
      ]
     },
     "metadata": {},
     "output_type": "display_data"
    },
    {
     "data": {
      "application/vnd.jupyter.widget-view+json": {
       "model_id": "3d3379d9c24144af97f7a66d4cba236f",
       "version_major": 2,
       "version_minor": 0
      },
      "text/plain": [
       "Generate report structure:   0%|          | 0/1 [00:00<?, ?it/s]"
      ]
     },
     "metadata": {},
     "output_type": "display_data"
    },
    {
     "data": {
      "application/vnd.jupyter.widget-view+json": {
       "model_id": "061eb81cd425466ba00aca6898f70ae4",
       "version_major": 2,
       "version_minor": 0
      },
      "text/plain": [
       "Render HTML:   0%|          | 0/1 [00:00<?, ?it/s]"
      ]
     },
     "metadata": {},
     "output_type": "display_data"
    },
    {
     "data": {
      "application/vnd.jupyter.widget-view+json": {
       "model_id": "d96ebc0a65b74e09ace8ff09bd8ca432",
       "version_major": 2,
       "version_minor": 0
      },
      "text/plain": [
       "Export report to file:   0%|          | 0/1 [00:00<?, ?it/s]"
      ]
     },
     "metadata": {},
     "output_type": "display_data"
    }
   ],
   "source": [
    "profile = ProfileReport(df, title=\"Red Wine Dataset Profiling Report\", explorative=True)\n",
    "\n",
    "# Save the report to an HTML file\n",
    "profile.to_file(\"red_wine_profile_report.html\")\n"
   ]
  },
  {
   "cell_type": "code",
   "execution_count": 10,
   "id": "641dedb8",
   "metadata": {},
   "outputs": [
    {
     "name": "stdout",
     "output_type": "stream",
     "text": [
      "citric acid    0\n",
      "sulphates      0\n",
      "alcohol        0\n",
      "type           0\n",
      "dtype: int64\n"
     ]
    }
   ],
   "source": [
    "from sklearn.model_selection import cross_val_score, StratifiedKFold\n",
    "from sklearn.linear_model import LogisticRegression\n",
    "from sklearn.naive_bayes import GaussianNB\n",
    "from sklearn.tree import DecisionTreeClassifier\n",
    "from sklearn.svm import SVC\n",
    "from sklearn.ensemble import RandomForestClassifier\n",
    "from sklearn.metrics import accuracy_score, roc_auc_score, make_scorer\n",
    "import numpy as np\n",
    "\n",
    "# Check if there are any null values in the dataset\n",
    "print(df.isnull().sum())\n",
    "\n",
    "# Split features and labels\n",
    "X = df.drop(\"type\", axis=1)  # Assuming 'quality' is the target column\n",
    "y = df[\"type\"].apply(lambda x: 1 if x == 'high' else 0)  # Convert to binary classification (high vs. low)\n"
   ]
  },
  {
   "cell_type": "code",
   "execution_count": 11,
   "id": "703b039e",
   "metadata": {},
   "outputs": [
    {
     "name": "stdout",
     "output_type": "stream",
     "text": [
      "Baseline Model Accuracy: 0.5289\n",
      "Baseline Model AUC: 0.5000\n"
     ]
    }
   ],
   "source": [
    "# Baseline Accuracy: Predict the majority class\n",
    "majority_class = y.mode()[0]\n",
    "baseline_accuracy = (y == majority_class).mean()\n",
    "baseline_auc = 0.5  # A random classifier has an AUC of 0.5\n",
    "\n",
    "print(f\"Baseline Model Accuracy: {baseline_accuracy:.4f}\")\n",
    "print(f\"Baseline Model AUC: {baseline_auc:.4f}\")\n"
   ]
  },
  {
   "cell_type": "code",
   "execution_count": 12,
   "id": "8d6bd860",
   "metadata": {},
   "outputs": [],
   "source": [
    "def evaluate_model(model, X, y):\n",
    "    cv = StratifiedKFold(n_splits=10)\n",
    "    accuracy = cross_val_score(model, X, y, cv=cv, scoring=\"accuracy\").mean()\n",
    "    auc = cross_val_score(model, X, y, cv=cv, scoring=make_scorer(roc_auc_score)).mean()\n",
    "    return accuracy, auc\n"
   ]
  },
  {
   "cell_type": "code",
   "execution_count": 13,
   "id": "e8dcd07f",
   "metadata": {},
   "outputs": [
    {
     "name": "stdout",
     "output_type": "stream",
     "text": [
      "Logistic Regression - Accuracy: 0.7848, AUC: 0.7819\n",
      "Naive Bayes - Accuracy: 0.8216, AUC: 0.8185\n",
      "Decision Tree - Accuracy: 0.7462, AUC: 0.7438\n",
      "SVM-Linear - Accuracy: 0.7936, AUC: 0.7929\n",
      "SVM-RBF - Accuracy: 0.5358, AUC: 0.5074\n",
      "Random Forest - Accuracy: 0.7918, AUC: 0.7859\n"
     ]
    }
   ],
   "source": [
    "# Initialize models with default parameters\n",
    "models = {\n",
    "    \"Logistic Regression\": LogisticRegression(max_iter=1000),\n",
    "    \"Naive Bayes\": GaussianNB(),\n",
    "    \"Decision Tree\": DecisionTreeClassifier(),\n",
    "    \"SVM-Linear\": SVC(kernel=\"linear\", probability=True),\n",
    "    \"SVM-RBF\": SVC(kernel=\"rbf\", probability=True),\n",
    "    \"Random Forest\": RandomForestClassifier()\n",
    "}\n",
    "\n",
    "# Dictionary to store results\n",
    "results = {\"Model\": [], \"Accuracy\": [], \"AUC\": []}\n",
    "\n",
    "# Evaluate each model\n",
    "for model_name, model in models.items():\n",
    "    accuracy, auc = evaluate_model(model, X, y)\n",
    "    results[\"Model\"].append(model_name)\n",
    "    results[\"Accuracy\"].append(accuracy)\n",
    "    results[\"AUC\"].append(auc)\n",
    "    print(f\"{model_name} - Accuracy: {accuracy:.4f}, AUC: {auc:.4f}\")\n"
   ]
  },
  {
   "cell_type": "code",
   "execution_count": 16,
   "id": "9cca8091",
   "metadata": {},
   "outputs": [
    {
     "name": "stdout",
     "output_type": "stream",
     "text": [
      "                 Model  Accuracy       AUC\n",
      "0  Logistic Regression  0.784785  0.781938\n",
      "1          Naive Bayes  0.821627  0.818532\n",
      "2        Decision Tree  0.746219  0.743816\n",
      "3           SVM-Linear  0.793587  0.792940\n",
      "4              SVM-RBF  0.535844  0.507407\n",
      "5        Random Forest  0.791833  0.785937\n",
      "6             Baseline  0.528897  0.500000\n"
     ]
    }
   ],
   "source": [
    "# Converting results to DataFrame for easier display\n",
    "results_df = pd.DataFrame(results)\n",
    "\n",
    "baseline_df = pd.DataFrame([{\"Model\": \"Baseline\", \"Accuracy\": baseline_accuracy, \"AUC\": baseline_auc}])\n",
    "results_df = pd.concat([results_df, baseline_df], ignore_index=True)\n",
    "\n",
    "print(results_df)\n"
   ]
  },
  {
   "cell_type": "code",
   "execution_count": 19,
   "id": "9e059af7",
   "metadata": {},
   "outputs": [],
   "source": [
    "%matplotlib inline"
   ]
  },
  {
   "cell_type": "code",
   "execution_count": 21,
   "id": "b7908751",
   "metadata": {},
   "outputs": [
    {
     "data": {
      "text/plain": [
       "<Figure size 640x480 with 0 Axes>"
      ]
     },
     "metadata": {},
     "output_type": "display_data"
    },
    {
     "data": {
      "image/png": "[encoded data removed]",
      "text/plain": [
       "<Figure size 800x600 with 1 Axes>"
      ]
     },
     "metadata": {},
     "output_type": "display_data"
    }
   ],
   "source": [
    "import pandas as pd\n",
    "from sklearn.ensemble import RandomForestClassifier\n",
    "from sklearn.model_selection import train_test_split\n",
    "from sklearn.metrics import roc_curve, auc\n",
    "import matplotlib.pyplot as plt\n",
    "\n",
    "# Split features and labels\n",
    "X = df.drop(\"type\", axis=1)  # Assuming 'quality' is the target column\n",
    "y = df[\"type\"].apply(lambda x: 1 if x == 'high' else 0)  # Convert to binary classification (high vs. low)\n",
    "\n",
    "# Split the data into training and test sets\n",
    "X_train, X_test, y_train, y_test = train_test_split(X, y, test_size=0.3, random_state=42)\n",
    "\n",
    "# Initialize and train the Random Forest classifier\n",
    "rf_model = RandomForestClassifier()\n",
    "rf_model.fit(X_train, y_train)\n",
    "\n",
    "# Get the predicted probabilities for the positive class\n",
    "y_pred_proba = rf_model.predict_proba(X_test)[:, 1]\n",
    "\n",
    "# Compute ROC curve and AUC\n",
    "fpr, tpr, thresholds = roc_curve(y_test, y_pred_proba)\n",
    "roc_auc = auc(fpr, tpr)\n",
    "\n",
    "# Clear any previous plots to avoid duplicates\n",
    "plt.clf()\n",
    "\n",
    "# Plot the ROC curve\n",
    "plt.figure(figsize=(8, 6))\n",
    "plt.plot(fpr, tpr, color='blue', label=f\"Random Forest (AUC = {roc_auc:.2f})\")\n",
    "plt.plot([0, 1], [0, 1], color='gray', linestyle='--')  # Line for random guessing\n",
    "plt.xlabel(\"False Positive Rate\")\n",
    "plt.ylabel(\"True Positive Rate\")\n",
    "plt.title(\"ROC Curve - Random Forest Classifier\")\n",
    "plt.legend(loc=\"lower right\")\n",
    "plt.show()\n"
   ]
  },
  {
   "cell_type": "code",
   "execution_count": 22,
   "id": "ace5de31",
   "metadata": {},
   "outputs": [
    {
     "name": "stdout",
     "output_type": "stream",
     "text": [
      "AUC score for the white-wine dataset using the best model (Naive Bayes): 0.95\n"
     ]
    }
   ],
   "source": [
    "from sklearn.naive_bayes import GaussianNB\n",
    "from sklearn.metrics import roc_curve, auc\n",
    "\n",
    "# Load the white wine dataset\n",
    "df_white_wine = pd.read_csv(r'C:\\Users\\Preetham Madhamsetty\\Desktop\\Shalini\\IS733\\HW2\\white_wine.csv')\n",
    "\n",
    "# Split features and labels\n",
    "X_white = df_white_wine.drop(\"type\", axis=1)  # Assuming 'quality' is the target column\n",
    "y_white = df_white_wine[\"type\"].apply(lambda x: 1 if x == 'high' else 0)  # Convert to binary classification\n",
    "\n",
    "# Initialize and train the Naive Bayes model (if needed, or you can use the previously trained model if not retraining)\n",
    "nb_model = GaussianNB()\n",
    "nb_model.fit(X_train, y_train)  # You can skip this if using the already trained model from Q2\n",
    "\n",
    "# Predict probabilities on the white wine data\n",
    "y_pred_proba_white = nb_model.predict_proba(X_white)[:, 1]\n",
    "\n",
    "# Compute ROC curve and AUC for white wine data\n",
    "fpr_white, tpr_white, thresholds_white = roc_curve(y_white, y_pred_proba_white)\n",
    "roc_auc_white = auc(fpr_white, tpr_white)\n",
    "\n",
    "print(f\"AUC score for the white-wine dataset using the best model (Naive Bayes): {roc_auc_white:.2f}\")\n"
   ]
  },
  {
   "cell_type": "code",
   "execution_count": null,
   "id": "459bff50",
   "metadata": {},
   "outputs": [],
   "source": []
  }
 ],
 "metadata": {
  "kernelspec": {
   "display_name": "Python 3 (ipykernel)",
   "language": "python",
   "name": "python3"
  },
  "language_info": {
   "codemirror_mode": {
    "name": "ipython",
    "version": 3
   },
   "file_extension": ".py",
   "mimetype": "text/x-python",
   "name": "python",
   "nbconvert_exporter": "python",
   "pygments_lexer": "ipython3",
   "version": "3.11.5"
  }
 },
 "nbformat": 4,
 "nbformat_minor": 5
}
